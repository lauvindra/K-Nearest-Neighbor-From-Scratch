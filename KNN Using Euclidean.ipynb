{
 "cells": [
  {
   "cell_type": "code",
   "execution_count": 1,
   "id": "be2f31a4",
   "metadata": {},
   "outputs": [],
   "source": [
    "import pandas as pd\n",
    "import numpy as np\n",
    "import matplotlib.pyplot as plt\n",
    "from sklearn import datasets\n",
    "from collections import Counter\n",
    "from sklearn.model_selection import train_test_split\n",
    "from sklearn.preprocessing import StandardScaler"
   ]
  },
  {
   "cell_type": "code",
   "execution_count": 2,
   "id": "1d3f62d3",
   "metadata": {},
   "outputs": [],
   "source": [
    "#importing/load dataset\n",
    "iris = datasets.load_iris()\n",
    "df = pd.DataFrame(data = iris.data, columns = iris.feature_names)\n",
    "#add another column for our target\n",
    "df['Target Class'] = iris.target"
   ]
  },
  {
   "cell_type": "code",
   "execution_count": 3,
   "id": "8c6e5e89",
   "metadata": {},
   "outputs": [
    {
     "data": {
      "text/html": [
       "<div>\n",
       "<style scoped>\n",
       "    .dataframe tbody tr th:only-of-type {\n",
       "        vertical-align: middle;\n",
       "    }\n",
       "\n",
       "    .dataframe tbody tr th {\n",
       "        vertical-align: top;\n",
       "    }\n",
       "\n",
       "    .dataframe thead th {\n",
       "        text-align: right;\n",
       "    }\n",
       "</style>\n",
       "<table border=\"1\" class=\"dataframe\">\n",
       "  <thead>\n",
       "    <tr style=\"text-align: right;\">\n",
       "      <th></th>\n",
       "      <th>sepal length (cm)</th>\n",
       "      <th>sepal width (cm)</th>\n",
       "      <th>petal length (cm)</th>\n",
       "      <th>petal width (cm)</th>\n",
       "      <th>Target Class</th>\n",
       "    </tr>\n",
       "  </thead>\n",
       "  <tbody>\n",
       "    <tr>\n",
       "      <th>0</th>\n",
       "      <td>5.1</td>\n",
       "      <td>3.5</td>\n",
       "      <td>1.4</td>\n",
       "      <td>0.2</td>\n",
       "      <td>0</td>\n",
       "    </tr>\n",
       "    <tr>\n",
       "      <th>1</th>\n",
       "      <td>4.9</td>\n",
       "      <td>3.0</td>\n",
       "      <td>1.4</td>\n",
       "      <td>0.2</td>\n",
       "      <td>0</td>\n",
       "    </tr>\n",
       "    <tr>\n",
       "      <th>2</th>\n",
       "      <td>4.7</td>\n",
       "      <td>3.2</td>\n",
       "      <td>1.3</td>\n",
       "      <td>0.2</td>\n",
       "      <td>0</td>\n",
       "    </tr>\n",
       "    <tr>\n",
       "      <th>3</th>\n",
       "      <td>4.6</td>\n",
       "      <td>3.1</td>\n",
       "      <td>1.5</td>\n",
       "      <td>0.2</td>\n",
       "      <td>0</td>\n",
       "    </tr>\n",
       "    <tr>\n",
       "      <th>4</th>\n",
       "      <td>5.0</td>\n",
       "      <td>3.6</td>\n",
       "      <td>1.4</td>\n",
       "      <td>0.2</td>\n",
       "      <td>0</td>\n",
       "    </tr>\n",
       "  </tbody>\n",
       "</table>\n",
       "</div>"
      ],
      "text/plain": [
       "   sepal length (cm)  sepal width (cm)  petal length (cm)  petal width (cm)  \\\n",
       "0                5.1               3.5                1.4               0.2   \n",
       "1                4.9               3.0                1.4               0.2   \n",
       "2                4.7               3.2                1.3               0.2   \n",
       "3                4.6               3.1                1.5               0.2   \n",
       "4                5.0               3.6                1.4               0.2   \n",
       "\n",
       "   Target Class  \n",
       "0             0  \n",
       "1             0  \n",
       "2             0  \n",
       "3             0  \n",
       "4             0  "
      ]
     },
     "execution_count": 3,
     "metadata": {},
     "output_type": "execute_result"
    }
   ],
   "source": [
    "df.head()"
   ]
  },
  {
   "cell_type": "code",
   "execution_count": 4,
   "id": "599e0567",
   "metadata": {},
   "outputs": [
    {
     "name": "stdout",
     "output_type": "stream",
     "text": [
      "<class 'pandas.core.frame.DataFrame'>\n",
      "RangeIndex: 150 entries, 0 to 149\n",
      "Data columns (total 5 columns):\n",
      " #   Column             Non-Null Count  Dtype  \n",
      "---  ------             --------------  -----  \n",
      " 0   sepal length (cm)  150 non-null    float64\n",
      " 1   sepal width (cm)   150 non-null    float64\n",
      " 2   petal length (cm)  150 non-null    float64\n",
      " 3   petal width (cm)   150 non-null    float64\n",
      " 4   Target Class       150 non-null    int64  \n",
      "dtypes: float64(4), int64(1)\n",
      "memory usage: 6.0 KB\n"
     ]
    }
   ],
   "source": [
    "df.info()"
   ]
  },
  {
   "cell_type": "code",
   "execution_count": 5,
   "id": "5acbee77",
   "metadata": {},
   "outputs": [
    {
     "name": "stdout",
     "output_type": "stream",
     "text": [
      "(150, 4) (150,)\n"
     ]
    }
   ],
   "source": [
    "#Extract the dependant and independant variables\n",
    "#We take all the rows and columns except the target class/ last column\n",
    "#iloc[rows,columns]\n",
    "X = df.iloc[:, :-1] #Independant Variables\n",
    "y = df.iloc[:, -1] #Dependant Variables\n",
    "print(X.shape,y.shape)"
   ]
  },
  {
   "cell_type": "code",
   "execution_count": 6,
   "id": "06982f60",
   "metadata": {},
   "outputs": [],
   "source": [
    "#Splitting the dataset into training and test set (75/25)\n",
    "X_train,X_test,y_train,y_test = train_test_split(X, y, test_size=0.25, random_state=0)"
   ]
  },
  {
   "cell_type": "code",
   "execution_count": 7,
   "id": "cd746abc",
   "metadata": {},
   "outputs": [],
   "source": [
    "#Standardize the variable\n",
    "scaler = StandardScaler()\n",
    "#Fit the scaler into features\n",
    "X_train = scaler.fit_transform(X_train)  # use fit_transform for training data\n",
    "X_test = scaler.transform(X_test) #use transform form test data"
   ]
  },
  {
   "cell_type": "code",
   "execution_count": 8,
   "id": "cccb347f",
   "metadata": {},
   "outputs": [
    {
     "data": {
      "text/html": [
       "<div>\n",
       "<style scoped>\n",
       "    .dataframe tbody tr th:only-of-type {\n",
       "        vertical-align: middle;\n",
       "    }\n",
       "\n",
       "    .dataframe tbody tr th {\n",
       "        vertical-align: top;\n",
       "    }\n",
       "\n",
       "    .dataframe thead th {\n",
       "        text-align: right;\n",
       "    }\n",
       "</style>\n",
       "<table border=\"1\" class=\"dataframe\">\n",
       "  <thead>\n",
       "    <tr style=\"text-align: right;\">\n",
       "      <th></th>\n",
       "      <th>sepal length (cm)</th>\n",
       "      <th>sepal width (cm)</th>\n",
       "      <th>petal length (cm)</th>\n",
       "      <th>petal width (cm)</th>\n",
       "    </tr>\n",
       "  </thead>\n",
       "  <tbody>\n",
       "    <tr>\n",
       "      <th>0</th>\n",
       "      <td>0.015440</td>\n",
       "      <td>-0.119255</td>\n",
       "      <td>0.225127</td>\n",
       "      <td>0.355798</td>\n",
       "    </tr>\n",
       "    <tr>\n",
       "      <th>1</th>\n",
       "      <td>-0.099845</td>\n",
       "      <td>-1.040395</td>\n",
       "      <td>0.113560</td>\n",
       "      <td>-0.029841</td>\n",
       "    </tr>\n",
       "    <tr>\n",
       "      <th>2</th>\n",
       "      <td>1.053005</td>\n",
       "      <td>-0.119255</td>\n",
       "      <td>0.950314</td>\n",
       "      <td>1.127075</td>\n",
       "    </tr>\n",
       "    <tr>\n",
       "      <th>3</th>\n",
       "      <td>-1.367980</td>\n",
       "      <td>0.341315</td>\n",
       "      <td>-1.392599</td>\n",
       "      <td>-1.315303</td>\n",
       "    </tr>\n",
       "    <tr>\n",
       "      <th>4</th>\n",
       "      <td>1.168290</td>\n",
       "      <td>0.111030</td>\n",
       "      <td>0.727180</td>\n",
       "      <td>1.384168</td>\n",
       "    </tr>\n",
       "  </tbody>\n",
       "</table>\n",
       "</div>"
      ],
      "text/plain": [
       "   sepal length (cm)  sepal width (cm)  petal length (cm)  petal width (cm)\n",
       "0           0.015440         -0.119255           0.225127          0.355798\n",
       "1          -0.099845         -1.040395           0.113560         -0.029841\n",
       "2           1.053005         -0.119255           0.950314          1.127075\n",
       "3          -1.367980          0.341315          -1.392599         -1.315303\n",
       "4           1.168290          0.111030           0.727180          1.384168"
      ]
     },
     "execution_count": 8,
     "metadata": {},
     "output_type": "execute_result"
    }
   ],
   "source": [
    "#check the scaling worked\n",
    "df_feat = pd.DataFrame(X_train, columns = df.columns[:-1])\n",
    "df_feat.head()"
   ]
  },
  {
   "cell_type": "code",
   "execution_count": 9,
   "id": "190a57df",
   "metadata": {},
   "outputs": [],
   "source": [
    "#Using euclidean distance formula\n",
    "from math import sqrt\n",
    "def euclidean_distance(a, b, p = 2):\n",
    "    \n",
    "    #Store the number of index\n",
    "    num_of_index = len(a)\n",
    "    \n",
    "    #Set the initial distance to 0\n",
    "    dist = 0\n",
    "    \n",
    "    #Calculate the euclidean distance using Parameter p\n",
    "    for x in range (num_of_index):\n",
    "        dist += (a[x] -b[x])**p\n",
    "        \n",
    "    dist = sqrt(dist**(1/p))\n",
    "    \n",
    "    return dist"
   ]
  },
  {
   "cell_type": "code",
   "execution_count": 10,
   "id": "6627bd1c",
   "metadata": {},
   "outputs": [],
   "source": [
    "def knn_predict(X_train, X_test, y_train, y_test, k, p):\n",
    "    #to store all the y predicted values\n",
    "    y_hat_test = []\n",
    "    \n",
    "    for test_point in X_test:\n",
    "        distances = []\n",
    "        \n",
    "        for train_point in X_train:\n",
    "            #call the function from above\n",
    "            distance = euclidean_distance(test_point, train_point,p = p)\n",
    "            distances.append(distance)\n",
    "    \n",
    "        df_diff = pd.DataFrame(data = distances, index = y_train.index, columns = ['dist'])\n",
    "        #Sort the distances in ascending order and select the first k values\n",
    "        #axis is along the y axis (vertical)\n",
    "        df_sorted_nn = df_diff.sort_values(by = ['dist'], axis = 0)[:k]\n",
    "    \n",
    "        #Track the label of k closest neighbour\n",
    "        #Counter count how many time it is present\n",
    "        counter = Counter(y_train[df_sorted_nn.index])\n",
    "    \n",
    "        #Get the most common label of all nearest neighbors\n",
    "        #Have 50% chance to print 0 than 1\n",
    "        pred = counter.most_common()[0][0]\n",
    "    \n",
    "        y_hat_test.append(pred)\n",
    "    \n",
    "    return y_hat_test\n",
    "#y_hat_test = knn_predict(X_train, X_test, y_train, y_test, k = 5, p = 1)\n",
    "#print(y_hat_test)\n",
    "#We find the best K value"
   ]
  },
  {
   "cell_type": "markdown",
   "id": "d1ed4da6",
   "metadata": {},
   "source": [
    "**By using Elbow method we find the best K value for our model**"
   ]
  },
  {
   "cell_type": "code",
   "execution_count": 11,
   "id": "53c1f1a1",
   "metadata": {},
   "outputs": [],
   "source": [
    "from sklearn.neighbors import KNeighborsClassifier\n",
    "error_rate1 = []\n",
    "for i in range(1,40):\n",
    "    knn = KNeighborsClassifier(n_neighbors=i, p =2)\n",
    "    #fit the training data\n",
    "    knn.fit(X_train, y_train)\n",
    "    pred_i = knn.predict(X_test)\n",
    "    error_rate1.append(np.mean(pred_i != y_test))"
   ]
  },
  {
   "cell_type": "code",
   "execution_count": 12,
   "id": "f72912ec",
   "metadata": {},
   "outputs": [
    {
     "data": {
      "text/plain": [
       "Text(0, 0.5, 'Error Rate')"
      ]
     },
     "execution_count": 12,
     "metadata": {},
     "output_type": "execute_result"
    },
    {
     "data": {
      "image/png": "[encoded data removed]",
      "text/plain": [
       "<Figure size 720x432 with 1 Axes>"
      ]
     },
     "metadata": {
      "needs_background": "light"
     },
     "output_type": "display_data"
    }
   ],
   "source": [
    "plt.figure(figsize=(10,6))\n",
    "plt.plot(range(1,40),error_rate1, color = 'blue', linestyle = 'dashed', marker = 'o',\n",
    "         markerfacecolor = 'orange', markersize = 10)\n",
    "plt.title('Error Rate vs K Value')\n",
    "plt.xlabel('K Value')\n",
    "plt.ylabel('Error Rate')"
   ]
  },
  {
   "cell_type": "code",
   "execution_count": 13,
   "id": "20c9995e",
   "metadata": {},
   "outputs": [],
   "source": [
    "y_hat_test = knn_predict(X_train, X_test, y_train, y_test, k=5, p=2)"
   ]
  },
  {
   "cell_type": "code",
   "execution_count": 14,
   "id": "356477e7",
   "metadata": {},
   "outputs": [
    {
     "name": "stdout",
     "output_type": "stream",
     "text": [
      "0.9736842105263158\n"
     ]
    }
   ],
   "source": [
    "from sklearn.metrics import accuracy_score\n",
    "#The accuracu score is\n",
    "print(accuracy_score(y_test,y_hat_test))"
   ]
  },
  {
   "cell_type": "code",
   "execution_count": 15,
   "id": "55ddea65",
   "metadata": {},
   "outputs": [
    {
     "name": "stdout",
     "output_type": "stream",
     "text": [
      "For our model with K = 5\n",
      "\n",
      "\n",
      "[[13  0  0]\n",
      " [ 0 15  1]\n",
      " [ 0  0  9]]\n",
      "\n",
      "\n",
      "              precision    recall  f1-score   support\n",
      "\n",
      "           0       1.00      1.00      1.00        13\n",
      "           1       1.00      0.94      0.97        16\n",
      "           2       0.90      1.00      0.95         9\n",
      "\n",
      "    accuracy                           0.97        38\n",
      "   macro avg       0.97      0.98      0.97        38\n",
      "weighted avg       0.98      0.97      0.97        38\n",
      "\n"
     ]
    }
   ],
   "source": [
    "from sklearn.metrics import classification_report,confusion_matrix\n",
    "# Compare our trained data with the original test data\n",
    "print('For our model with K = 5')\n",
    "print('\\n')\n",
    "print(confusion_matrix(y_test,y_hat_test))\n",
    "print('\\n')\n",
    "print(classification_report(y_test,y_hat_test))"
   ]
  },
  {
   "cell_type": "markdown",
   "id": "80998fce",
   "metadata": {},
   "source": [
    "**By using Elbow method we find the best K value for the built in function**"
   ]
  },
  {
   "cell_type": "code",
   "execution_count": 16,
   "id": "0f8440c0",
   "metadata": {},
   "outputs": [],
   "source": [
    "from sklearn.metrics import classification_report,confusion_matrix\n",
    "error_rate2 = []\n",
    "for i in range(1,40):\n",
    "    #same as above methods\n",
    "    knn = KNeighborsClassifier(n_neighbors=i, p = 2)\n",
    "    knn.fit(X_train, y_train)\n",
    "    pred_i = knn.predict(X_test)\n",
    "    error_rate2.append(np.mean(pred_i != y_test))\n"
   ]
  },
  {
   "cell_type": "code",
   "execution_count": 17,
   "id": "5d853212",
   "metadata": {},
   "outputs": [
    {
     "data": {
      "text/plain": [
       "Text(0, 0.5, 'Error Rate')"
      ]
     },
     "execution_count": 17,
     "metadata": {},
     "output_type": "execute_result"
    },
    {
     "data": {
      "image/png": "[encoded data removed]",
      "text/plain": [
       "<Figure size 720x432 with 1 Axes>"
      ]
     },
     "metadata": {
      "needs_background": "light"
     },
     "output_type": "display_data"
    }
   ],
   "source": [
    "plt.figure(figsize=(10,6))\n",
    "plt.plot(range(1,40),error_rate2, color = 'blue', linestyle = 'dashed', marker = 'o',\n",
    "         markerfacecolor = 'red', markersize = 10)\n",
    "plt.title('Error Rate vs K Value')\n",
    "plt.xlabel('K Value')\n",
    "plt.ylabel('Error Rate')"
   ]
  },
  {
   "cell_type": "code",
   "execution_count": 18,
   "id": "ba94ecb7",
   "metadata": {},
   "outputs": [
    {
     "name": "stdout",
     "output_type": "stream",
     "text": [
      "0.9736842105263158\n"
     ]
    }
   ],
   "source": [
    "knn  = KNeighborsClassifier(n_neighbors = 5, p = 2)\n",
    "knn.fit(X_train,y_train)\n",
    "# Compare our trained data with the original test data\n",
    "y_pred_test = knn.predict(X_test)\n",
    "\n",
    "from sklearn.metrics import accuracy_score\n",
    "# The accuracy is 97%\n",
    "print(accuracy_score(y_test,y_pred_test))"
   ]
  },
  {
   "cell_type": "code",
   "execution_count": 19,
   "id": "04b393dc",
   "metadata": {
    "scrolled": true
   },
   "outputs": [
    {
     "name": "stdout",
     "output_type": "stream",
     "text": [
      "For SKlearn KNN with K= 5\n",
      "\n",
      "\n",
      "[[13  0  0]\n",
      " [ 0 15  1]\n",
      " [ 0  0  9]]\n",
      "\n",
      "\n",
      "              precision    recall  f1-score   support\n",
      "\n",
      "           0       1.00      1.00      1.00        13\n",
      "           1       1.00      0.94      0.97        16\n",
      "           2       0.90      1.00      0.95         9\n",
      "\n",
      "    accuracy                           0.97        38\n",
      "   macro avg       0.97      0.98      0.97        38\n",
      "weighted avg       0.98      0.97      0.97        38\n",
      "\n"
     ]
    }
   ],
   "source": [
    "print('For SKlearn KNN with K= 5')\n",
    "print('\\n')\n",
    "print(confusion_matrix(y_test,y_pred_test))\n",
    "print('\\n')\n",
    "print(classification_report(y_test,y_pred_test))"
   ]
  }
 ],
 "metadata": {
  "kernelspec": {
   "display_name": "Python 3",
   "language": "python",
   "name": "python3"
  },
  "language_info": {
   "codemirror_mode": {
    "name": "ipython",
    "version": 3
   },
   "file_extension": ".py",
   "mimetype": "text/x-python",
   "name": "python",
   "nbconvert_exporter": "python",
   "pygments_lexer": "ipython3",
   "version": "3.9.6"
  }
 },
 "nbformat": 4,
 "nbformat_minor": 5
}
